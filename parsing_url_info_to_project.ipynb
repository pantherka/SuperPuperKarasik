{
 "cells": [
  {
   "cell_type": "code",
   "execution_count": 1,
   "metadata": {},
   "outputs": [],
   "source": [
    "import requests\n",
    "from bs4 import BeautifulSoup\n",
    "from tqdm.notebook import tqdm\n",
    "import re\n",
    "import os"
   ]
  },
  {
   "cell_type": "code",
   "execution_count": 2,
   "metadata": {},
   "outputs": [],
   "source": [
    "def parse_html(file, index):\n",
    "    answer = {}\n",
    "    answer['id'] = index\n",
    "    url_split = file.find('\\n')\n",
    "    url = file[:url_split]\n",
    "    answer['url'] = url\n",
    "    \n",
    "    try:\n",
    "        text = file[url_split + 1:]\n",
    "        soup = BeautifulSoup(text, \"html5lib\")\n",
    "        if not soup:\n",
    "            print(\"Not foud soup! \", index)\n",
    "            return answer\n",
    "        name = soup.find('title')\n",
    "        if name:\n",
    "            answer['title'] = name.string\n",
    "        else:\n",
    "            print(\"empty title:\", index)\n",
    "        body = soup.find('body')\n",
    "        if not body:\n",
    "            print(\"not found body:\", index)\n",
    "            return answer\n",
    "        text_prefix = []\n",
    "        cnt = 0\n",
    "        try:\n",
    "            for paragraph in body.find_all(['p', 'h1', 'h2', 'h3']):\n",
    "                cnt += 1\n",
    "                if paragraph and paragraph.string:\n",
    "                    if len(paragraph.string) > 1:\n",
    "                        text_prefix.append(paragraph.string)\n",
    "                else:\n",
    "                    if not paragraph.descendants:\n",
    "                        print(\"not found descedants: \", index)\n",
    "                    try:\n",
    "                        for child in paragraph.descendants:\n",
    "                            if child and child.string and len(child.string) > 1:\n",
    "                                text_prefix.append(child.string)\n",
    "                    except Exception as e:\n",
    "                        print(e, file=sys.stderr)\n",
    "                        print(\"bad children in file: \", index)\n",
    "        except Exception as e:\n",
    "            print(e, file=sys.stderr)\n",
    "            print(\"bad find_all in file: \", index)\n",
    "        rus_text = ' '.join(text_prefix)\n",
    "        rus_text = re.sub(r\"\\s+\", \" \", rus_text)\n",
    "        answer['text'] = rus_text\n",
    "        return answer\n",
    "    except Exception as e:\n",
    "        print(e, file=sys.stderr)\n",
    "        print(\"Unknown error: \", index)"
   ]
  },
  {
   "cell_type": "code",
   "execution_count": 3,
   "metadata": {},
   "outputs": [],
   "source": [
    "import pandas as pd\n",
    "import json\n",
    "import gzip\n",
    "import codecs\n",
    "import sys"
   ]
  },
  {
   "cell_type": "code",
   "execution_count": 4,
   "metadata": {},
   "outputs": [
    {
     "data": {
      "application/vnd.jupyter.widget-view+json": {
       "model_id": "44dc36b7a896499897fd41d933ba5cbe",
       "version_major": 2,
       "version_minor": 0
      },
      "text/plain": [
       "HBox(children=(HTML(value=''), FloatProgress(value=0.0, max=19986.0), HTML(value='')))"
      ]
     },
     "metadata": {},
     "output_type": "display_data"
    },
    {
     "name": "stdout",
     "output_type": "stream",
     "text": [
      "empty title: 9842\n",
      "not found body: 9842\n",
      "empty title: 10180\n",
      "not found body: 10180\n"
     ]
    },
    {
     "name": "stderr",
     "output_type": "stream",
     "text": [
      "'NoneType' object has no attribute 'next_element'\n"
     ]
    },
    {
     "name": "stdout",
     "output_type": "stream",
     "text": [
      "bad children in file:  10956\n",
      "empty title: 11525\n",
      "not found body: 11525\n",
      "empty title: 11724\n",
      "not found body: 11724\n",
      "not found body: 11961\n",
      "not found body: 13200\n"
     ]
    },
    {
     "name": "stderr",
     "output_type": "stream",
     "text": [
      "'NoneType' object has no attribute 'next_element'\n"
     ]
    },
    {
     "name": "stdout",
     "output_type": "stream",
     "text": [
      "bad find_all in file:  13325\n",
      "empty title: 13949\n",
      "not found body: 13949\n"
     ]
    },
    {
     "name": "stderr",
     "output_type": "stream",
     "text": [
      "'NoneType' object has no attribute 'next_element'\n"
     ]
    },
    {
     "name": "stdout",
     "output_type": "stream",
     "text": [
      "Unknown error:  14232\n",
      "empty title: 14250\n",
      "not found body: 14250\n"
     ]
    },
    {
     "name": "stderr",
     "output_type": "stream",
     "text": [
      "'NoneType' object has no attribute 'next_element'\n"
     ]
    },
    {
     "name": "stdout",
     "output_type": "stream",
     "text": [
      "bad find_all in file:  14338\n",
      "empty title: 16301\n",
      "not found body: 16301\n",
      "not found body: 17126\n"
     ]
    },
    {
     "name": "stderr",
     "output_type": "stream",
     "text": [
      "'NoneType' object has no attribute 'next_element'\n"
     ]
    },
    {
     "name": "stdout",
     "output_type": "stream",
     "text": [
      "bad find_all in file:  19016\n",
      "not found body: 19788\n"
     ]
    },
    {
     "name": "stderr",
     "output_type": "stream",
     "text": [
      "'NoneType' object has no attribute 'next_element'\n"
     ]
    },
    {
     "name": "stdout",
     "output_type": "stream",
     "text": [
      "bad children in file:  21048\n",
      "not found body: 21268\n",
      "empty title: 21931\n",
      "not found body: 21931\n",
      "empty title: 22264\n",
      "not found body: 22264\n",
      "empty title: 23011\n",
      "not found body: 23011\n",
      "empty title: 23070\n",
      "not found body: 23070\n"
     ]
    },
    {
     "name": "stderr",
     "output_type": "stream",
     "text": [
      "'NoneType' object has no attribute 'next_element'\n"
     ]
    },
    {
     "name": "stdout",
     "output_type": "stream",
     "text": [
      "bad children in file:  25710\n",
      "empty title: 26823\n",
      "not found body: 26823\n",
      "\n"
     ]
    }
   ],
   "source": [
    "dirname = 'content'\n",
    "dir_result = 'data'\n",
    "meta = []\n",
    "for index in tqdm(range(8041, 28027)):\n",
    "    file = str(index) + \".dat\"\n",
    "    with open(os.path.join(dirname, file), mode='r', encoding='utf-8') as fin:\n",
    "        record = (parse_html(fin.read(), index))\n",
    "    with gzip.open('data/part_{:05d}.jsonl.gz'.format(index), mode='wb') as f_json:\n",
    "        f_json = codecs.getwriter('utf8')(f_json)\n",
    "        try:\n",
    "            record_str = json.dumps(record, ensure_ascii=False)\n",
    "            print(record_str, file=f_json)\n",
    "\n",
    "        except Exception as e:\n",
    "            print(e, file=sys.stderr)\n",
    "\n",
    "#     pbar.update(1)    \n",
    "    \n",
    "# page_info = pd.DataFrame(meta)\n",
    "# page_info.to_csv(\"all_page_info.csv\", index=False)"
   ]
  },
  {
   "cell_type": "code",
   "execution_count": 7,
   "metadata": {},
   "outputs": [],
   "source": [
    "import pandas as pd\n",
    "\n",
    "page_info = pd.DataFrame(meta)\n",
    "page_info.to_csv(\"page_info.csv\", index=False)"
   ]
  },
  {
   "cell_type": "code",
   "execution_count": 36,
   "metadata": {},
   "outputs": [
    {
     "name": "stdout",
     "output_type": "stream",
     "text": [
      "<class 'pandas.core.frame.DataFrame'>\n",
      "RangeIndex: 50 entries, 0 to 49\n",
      "Data columns (total 3 columns):\n",
      "text     50 non-null object\n",
      "title    50 non-null object\n",
      "url      50 non-null object\n",
      "dtypes: object(3)\n",
      "memory usage: 1.2+ KB\n"
     ]
    }
   ],
   "source": [
    "page_info.info()"
   ]
  },
  {
   "cell_type": "code",
   "execution_count": null,
   "metadata": {},
   "outputs": [],
   "source": []
  }
 ],
 "metadata": {
  "kernelspec": {
   "display_name": "Python 3",
   "language": "python",
   "name": "python3"
  },
  "language_info": {
   "codemirror_mode": {
    "name": "ipython",
    "version": 3
   },
   "file_extension": ".py",
   "mimetype": "text/x-python",
   "name": "python",
   "nbconvert_exporter": "python",
   "pygments_lexer": "ipython3",
   "version": "3.7.1"
  }
 },
 "nbformat": 4,
 "nbformat_minor": 2
}
